{
 "cells": [
  {
   "cell_type": "markdown",
   "metadata": {},
   "source": [
    "# Context Manager"
   ]
  },
  {
   "cell_type": "markdown",
   "metadata": {},
   "source": [
    "python 2.4"
   ]
  },
  {
   "cell_type": "code",
   "execution_count": 22,
   "metadata": {},
   "outputs": [
    {
     "name": "stdout",
     "output_type": "stream",
     "text": [
      "context_manager_example_01\n"
     ]
    }
   ],
   "source": [
    "path = \"example_01.txt\"\n",
    "data = \"example_01\"\n",
    "\n",
    "f = open(path, \"w\")\n",
    "f.write(data)\n",
    "f.close()\n",
    "\n",
    "f = open(path, \"r\")\n",
    "contents = f.read()\n",
    "f.close()\n",
    "\n",
    "print(contents)"
   ]
  },
  {
   "cell_type": "markdown",
   "metadata": {},
   "source": [
    "python 2.5"
   ]
  },
  {
   "cell_type": "code",
   "execution_count": 23,
   "metadata": {},
   "outputs": [
    {
     "name": "stdout",
     "output_type": "stream",
     "text": [
      "context_manager_example_02\n"
     ]
    }
   ],
   "source": [
    "path = \"example_02.txt\"\n",
    "data = \"example_02\"\n",
    "\n",
    "with open(path, \"w\") as f:\n",
    "    f.write(data)\n",
    "    \n",
    "with open(path, \"r\") as f:\n",
    "    contents = f.read()\n",
    "    \n",
    "print(contents)"
   ]
  },
  {
   "cell_type": "markdown",
   "metadata": {},
   "source": [
    "using context manager"
   ]
  },
  {
   "cell_type": "code",
   "execution_count": 24,
   "metadata": {},
   "outputs": [
    {
     "name": "stdout",
     "output_type": "stream",
     "text": [
      "Closing file\n",
      "Closing file\n",
      "example_03\n"
     ]
    }
   ],
   "source": [
    "from contextlib import contextmanager\n",
    "path = \"example_03.txt\"\n",
    "data = \"example_03\"\n",
    "\n",
    "@contextmanager\n",
    "def file_open(path, mode=\"w\"):\n",
    "    try:\n",
    "        f = open(path, mode)\n",
    "        yield f\n",
    "    except OSError:\n",
    "        print(\"Error\")\n",
    "    finally:\n",
    "        print(\"Closing file\")\n",
    "        f.close()\n",
    "\n",
    "with file_open(path) as f:\n",
    "    f.write(data)\n",
    "\n",
    "with file_open(path, 'r') as f:\n",
    "    contents = f.read()\n",
    "\n",
    "print(contents)"
   ]
  },
  {
   "cell_type": "code",
   "execution_count": 1,
   "metadata": {
    "collapsed": true
   },
   "outputs": [],
   "source": [
    "from contextlib import contextmanager"
   ]
  },
  {
   "cell_type": "code",
   "execution_count": 2,
   "metadata": {
    "collapsed": true
   },
   "outputs": [],
   "source": [
    "@contextmanager\n",
    "def tag(name):\n",
    "    print(\"<%s>\" % name)\n",
    "    yield\n",
    "    print(\"</%s>\" % name)"
   ]
  },
  {
   "cell_type": "code",
   "execution_count": 3,
   "metadata": {},
   "outputs": [
    {
     "name": "stdout",
     "output_type": "stream",
     "text": [
      "<h1>\n",
      "foo\n",
      "</h1>\n"
     ]
    }
   ],
   "source": [
    "with tag(\"h1\"):\n",
    "    print (\"foo\")"
   ]
  },
  {
   "cell_type": "code",
   "execution_count": 8,
   "metadata": {},
   "outputs": [
    {
     "name": "stdout",
     "output_type": "stream",
     "text": [
      "<generator object <genexpr> at 0x0000000005D3D750>\n"
     ]
    }
   ],
   "source": [
    "with open(\"context_manager.txt\") as f:\n",
    "    lines = (line.rstrip('\\n') for line in f)\n",
    "    print(lines)"
   ]
  },
  {
   "cell_type": "code",
   "execution_count": 9,
   "metadata": {
    "collapsed": true
   },
   "outputs": [],
   "source": [
    "def stripped_lines(filename):\n",
    "    with open(filename) as f:\n",
    "        for line in f:\n",
    "            yield line.rstrip(\"\\n\")"
   ]
  },
  {
   "cell_type": "code",
   "execution_count": 19,
   "metadata": {},
   "outputs": [
    {
     "data": {
      "text/plain": [
       "<generator object stripped_lines at 0x0000000005D3DDC8>"
      ]
     },
     "execution_count": 19,
     "metadata": {},
     "output_type": "execute_result"
    }
   ],
   "source": [
    "stripped_lines(\"context_manager.txt\")"
   ]
  },
  {
   "cell_type": "code",
   "execution_count": null,
   "metadata": {
    "collapsed": true
   },
   "outputs": [],
   "source": []
  }
 ],
 "metadata": {
  "kernelspec": {
   "display_name": "Python 2",
   "language": "python",
   "name": "python2"
  },
  "language_info": {
   "codemirror_mode": {
    "name": "ipython",
    "version": 2
   },
   "file_extension": ".py",
   "mimetype": "text/x-python",
   "name": "python",
   "nbconvert_exporter": "python",
   "pygments_lexer": "ipython2",
   "version": "2.7.13"
  }
 },
 "nbformat": 4,
 "nbformat_minor": 2
}
